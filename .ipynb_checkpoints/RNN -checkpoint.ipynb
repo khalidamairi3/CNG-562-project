{
 "cells": [
  {
   "cell_type": "code",
   "execution_count": 1,
   "metadata": {},
   "outputs": [],
   "source": [
    "import numpy as np\n",
    "import pandas as pd\n",
    "from sklearn.neighbors import KNeighborsRegressor\n",
    "from sklearn.tree import DecisionTreeRegressor\n",
    "from sklearn import tree\n",
    "from sklearn.linear_model import LinearRegression\n",
    "from sklearn.preprocessing import LabelEncoder\n",
    "from sklearn.model_selection import train_test_split\n",
    "from sklearn.metrics import accuracy_score\n",
    "from sklearn.metrics import mean_squared_error\n",
    "from collections import defaultdict\n",
    "\n",
    "# we don't like warnings\n",
    "# you can comment the following 2 lines if you'd like to\n",
    "import warnings\n",
    "warnings.filterwarnings('ignore')\n",
    "\n",
    "# Matplotlib forms basis for visualization in Python\n",
    "import matplotlib.pyplot as plt\n",
    "\n",
    "# We will use the Seaborn library\n",
    "import seaborn as sns\n",
    "sns.set()\n",
    "\n",
    "# Graphics in SVG format are more sharp and legible\n",
    "%config InlineBackend.figure_format = 'svg'"
   ]
  },
  {
   "cell_type": "code",
   "execution_count": 2,
   "metadata": {},
   "outputs": [],
   "source": [
    "df = pd.read_csv(\"mHealth_subject3.log\", header=None, delim_whitespace=True)\n",
    "\n",
    "df=df[df[23] != 0]\n",
    "df=df[df[23] != 6]\n",
    "df=df[df[23] != 7]\n",
    "df=df[df[23] != 8]\n",
    "df=df[df[23] != 12]\n",
    "\n",
    "df.shape\n",
    "\n",
    "def extractECG(dataFrame,lead=1):\n",
    "    if lead == 1:\n",
    "        lead = 4\n",
    "    else :\n",
    "        lead = 5\n",
    "        \n",
    "    data = dataFrame[lead]\n",
    "    data = data.reset_index()\n",
    "    data.columns=[\"index\",\"readings\"]\n",
    "    return data['readings']\n",
    "data=extractECG(df)\n",
    "\n",
    "readings=25\n",
    "def fmax(label_count):\n",
    "    M=0\n",
    "    for i in range (int (len (label_count)) ):\n",
    "        if label_count[i]>label_count[M]:\n",
    "            M=i\n",
    "    return M\n",
    "labels=[]\n",
    "label_index=0\n",
    "label = df[23].values\n",
    "label_count=[0,0,0,0,0,0,0,0]\n",
    "for i in range(int(len(label))):\n",
    "    if label[i]==1:\n",
    "        label_count[0]=label_count[0]+1\n",
    "    elif label[i]==2:\n",
    "        label_count[1]=label_count[1]+1\n",
    "    elif label[i]==3:\n",
    "        label_count[2]=label_count[2]+1\n",
    "    elif label[i]==4:\n",
    "        label_count[3]=label_count[3]+1\n",
    "    elif label[i]==5:\n",
    "        label_count[4]=label_count[4]+1\n",
    "    elif label[i]==9:\n",
    "        label_count[5]=label_count[5]+1\n",
    "    elif label[i]==10:\n",
    "        label_count[6]=label_count[6]+1\n",
    "    elif label[i]==11:\n",
    "        label_count[7]=label_count[7]+1\n",
    "    \n",
    "    if(i%readings==readings-1):\n",
    "        M=fmax(label_count)\n",
    "        labels.append(M)\n",
    "        label_count=[0,0,0,0,0,0,0,0,0,0,0,0,0]\n",
    "        label_index=label_index+1\n",
    "labels=np.array(labels)\n",
    "\n",
    "data=data.values\n",
    "for j in range(data.size%readings):\n",
    "    data = np.delete(data, (j), axis=0)\n",
    "data.size\n",
    "\n",
    "data= data.reshape(int(data.size/readings),1,readings)\n"
   ]
  },
  {
   "cell_type": "code",
   "execution_count": 3,
   "metadata": {},
   "outputs": [
    {
     "name": "stderr",
     "output_type": "stream",
     "text": [
      "Using TensorFlow backend.\n"
     ]
    }
   ],
   "source": [
    "from numpy import mean\n",
    "from numpy import std\n",
    "from numpy import dstack\n",
    "from pandas import read_csv\n",
    "from matplotlib import pyplot\n",
    "from keras.models import Sequential\n",
    "from keras.layers import Dense\n",
    "from keras.layers import Flatten\n",
    "from keras.layers import Dropout\n",
    "from keras.layers import BatchNormalization\n",
    "from keras.layers.convolutional import Conv1D\n",
    "from keras.layers.convolutional import MaxPooling1D\n",
    "from keras.utils import to_categorical"
   ]
  },
  {
   "cell_type": "code",
   "execution_count": 4,
   "metadata": {},
   "outputs": [],
   "source": [
    "from keras.utils import to_categorical\n",
    "from sklearn.model_selection import train_test_split\n",
    "X_train, X_test, y_train, y_test = train_test_split(data, to_categorical(labels), test_size = 0.20, random_state = 0)\n"
   ]
  },
  {
   "cell_type": "code",
   "execution_count": 5,
   "metadata": {},
   "outputs": [
    {
     "data": {
      "text/plain": [
       "(786, 1, 25)"
      ]
     },
     "execution_count": 5,
     "metadata": {},
     "output_type": "execute_result"
    }
   ],
   "source": [
    "# from sklearn.preprocessing import StandardScaler\n",
    "\n",
    "# def scale_data(trainX, testX, standardize):\n",
    "\n",
    "# \t# standardize\n",
    "# \tif standardize:\n",
    "# \t\ts = StandardScaler()\n",
    "# \t\ts.fit(trainX)\n",
    "# \t\ttrainX = s.transform(trainX)\n",
    "# \t\ttestX = s.transform(testX)\n",
    "# \t# reshape\n",
    "# \ttrainX = trainX.reshape((trainX.shape))\n",
    "# \ttestX = testX.reshape((testX.shape))\n",
    "# \treturn trainX, testX\n",
    "# X_train=X_train.reshape(786,25)\n",
    "# X_test=X_test.reshape(X_test.shape[0],25)\n",
    "# trainX, testX = scale_data(X_train, X_test, True)\n",
    "\n",
    "X_train.shape"
   ]
  },
  {
   "cell_type": "code",
   "execution_count": 7,
   "metadata": {},
   "outputs": [
    {
     "name": "stdout",
     "output_type": "stream",
     "text": [
      "WARNING:tensorflow:From C:\\Users\\DELL\\Anaconda3\\lib\\site-packages\\tensorflow\\python\\ops\\math_ops.py:3066: to_int32 (from tensorflow.python.ops.math_ops) is deprecated and will be removed in a future version.\n",
      "Instructions for updating:\n",
      "Use tf.cast instead.\n",
      "Epoch 1/20\n",
      "20/20 [==============================] - 1s 52ms/step - loss: 0.2852\n",
      "Epoch 2/20\n",
      "20/20 [==============================] - 0s 3ms/step - loss: 0.2283\n",
      "Epoch 3/20\n",
      "20/20 [==============================] - 0s 2ms/step - loss: 0.1991\n",
      "Epoch 4/20\n",
      "20/20 [==============================] - 0s 3ms/step - loss: 0.1791\n",
      "Epoch 5/20\n",
      "20/20 [==============================] - 0s 5ms/step - loss: 0.1651\n",
      "Epoch 6/20\n",
      "20/20 [==============================] - 0s 3ms/step - loss: 0.1561\n",
      "Epoch 7/20\n",
      "20/20 [==============================] - 0s 2ms/step - loss: 0.1501\n",
      "Epoch 8/20\n",
      "20/20 [==============================] - 0s 3ms/step - loss: 0.1457\n",
      "Epoch 9/20\n",
      "20/20 [==============================] - 0s 3ms/step - loss: 0.1426\n",
      "Epoch 10/20\n",
      "20/20 [==============================] - 0s 4ms/step - loss: 0.1401\n",
      "Epoch 11/20\n",
      "20/20 [==============================] - 0s 3ms/step - loss: 0.1382\n",
      "Epoch 12/20\n",
      "20/20 [==============================] - 0s 3ms/step - loss: 0.1366\n",
      "Epoch 13/20\n",
      "20/20 [==============================] - 0s 2ms/step - loss: 0.1352\n",
      "Epoch 14/20\n",
      "20/20 [==============================] - 0s 4ms/step - loss: 0.1341\n",
      "Epoch 15/20\n",
      "20/20 [==============================] - 0s 4ms/step - loss: 0.1332\n",
      "Epoch 16/20\n",
      "20/20 [==============================] - 0s 4ms/step - loss: 0.1324A: 0s - loss: 0.132\n",
      "Epoch 17/20\n",
      "20/20 [==============================] - 0s 3ms/step - loss: 0.1317\n",
      "Epoch 18/20\n",
      "20/20 [==============================] - 0s 2ms/step - loss: 0.1311\n",
      "Epoch 19/20\n",
      "20/20 [==============================] - 0s 4ms/step - loss: 0.1306\n",
      "Epoch 20/20\n",
      "20/20 [==============================] - 0s 8ms/step - loss: 0.1300\n"
     ]
    }
   ],
   "source": [
    "\n",
    "from keras.models import Sequential\n",
    "from keras import layers\n",
    "from keras.optimizers import RMSprop\n",
    "\n",
    "model7 = Sequential()\n",
    "model7.add(layers.Flatten(input_shape=(X_train.shape[1], X_train.shape[-1])))\n",
    "model7.add(layers.Dense(32, activation='relu'))\n",
    "model7.add(layers.Dense(8))\n",
    "\n",
    "model7.compile(optimizer=RMSprop(), loss='mae')\n",
    "history = model7.fit(X_train,y_train,steps_per_epoch=20,epochs=20)\n",
    "                              "
   ]
  },
  {
   "cell_type": "code",
   "execution_count": 8,
   "metadata": {},
   "outputs": [
    {
     "name": "stdout",
     "output_type": "stream",
     "text": [
      "197/197 [==============================] - 0s 1ms/step\n",
      "0.13677601690219743\n"
     ]
    }
   ],
   "source": [
    "accuracy = model7.evaluate(X_test, y_test, batch_size=32, verbose=1)\n",
    "print (accuracy)"
   ]
  },
  {
   "cell_type": "code",
   "execution_count": 15,
   "metadata": {},
   "outputs": [],
   "source": [
    "model = Sequential()\n",
    "model.add(layers.GRU(32,\n",
    "                     dropout=0.1,\n",
    "                     recurrent_dropout=0.5,\n",
    "                     return_sequences=True,\n",
    "                     input_shape=(None, X_train.shape[-1])))\n",
    "model.add(layers.GRU(64, activation='relu',\n",
    "                     dropout=0.1, \n",
    "                     recurrent_dropout=0.3))\n",
    "\n",
    "model.add(layers.Dense(8))\n",
    "\n",
    "model.compile(optimizer=RMSprop(), loss='mae')"
   ]
  },
  {
   "cell_type": "code",
   "execution_count": 16,
   "metadata": {},
   "outputs": [
    {
     "name": "stdout",
     "output_type": "stream",
     "text": [
      "Epoch 1/40\n",
      "786/786 [==============================] - 3s 4ms/step - loss: 0.1378\n",
      "Epoch 2/40\n",
      "786/786 [==============================] - 0s 201us/step - loss: 0.1325\n",
      "Epoch 3/40\n",
      "786/786 [==============================] - 0s 319us/step - loss: 0.1306\n",
      "Epoch 4/40\n",
      "786/786 [==============================] - 0s 264us/step - loss: 0.1294\n",
      "Epoch 5/40\n",
      "786/786 [==============================] - 0s 197us/step - loss: 0.1286\n",
      "Epoch 6/40\n",
      "786/786 [==============================] - 0s 189us/step - loss: 0.1279\n",
      "Epoch 7/40\n",
      "786/786 [==============================] - 0s 200us/step - loss: 0.1273\n",
      "Epoch 8/40\n",
      "786/786 [==============================] - 0s 247us/step - loss: 0.1267\n",
      "Epoch 9/40\n",
      "786/786 [==============================] - 0s 215us/step - loss: 0.1264\n",
      "Epoch 10/40\n",
      "786/786 [==============================] - 0s 247us/step - loss: 0.1260\n",
      "Epoch 11/40\n",
      "786/786 [==============================] - 0s 203us/step - loss: 0.1256\n",
      "Epoch 12/40\n",
      "786/786 [==============================] - 0s 207us/step - loss: 0.1253\n",
      "Epoch 13/40\n",
      "786/786 [==============================] - 0s 207us/step - loss: 0.1249\n",
      "Epoch 14/40\n",
      "786/786 [==============================] - 0s 233us/step - loss: 0.1246\n",
      "Epoch 15/40\n",
      "786/786 [==============================] - 0s 240us/step - loss: 0.1245\n",
      "Epoch 16/40\n",
      "786/786 [==============================] - 0s 281us/step - loss: 0.1243\n",
      "Epoch 17/40\n",
      "786/786 [==============================] - 0s 206us/step - loss: 0.1243\n",
      "Epoch 18/40\n",
      "786/786 [==============================] - 0s 205us/step - loss: 0.1244\n",
      "Epoch 19/40\n",
      "786/786 [==============================] - 0s 205us/step - loss: 0.1242\n",
      "Epoch 20/40\n",
      "786/786 [==============================] - 0s 192us/step - loss: 0.1239\n",
      "Epoch 21/40\n",
      "786/786 [==============================] - 0s 223us/step - loss: 0.1242\n",
      "Epoch 22/40\n",
      "786/786 [==============================] - 0s 336us/step - loss: 0.1241\n",
      "Epoch 23/40\n",
      "786/786 [==============================] - 0s 275us/step - loss: 0.1238\n",
      "Epoch 24/40\n",
      "786/786 [==============================] - 0s 320us/step - loss: 0.1240\n",
      "Epoch 25/40\n",
      "786/786 [==============================] - 0s 272us/step - loss: 0.1238\n",
      "Epoch 26/40\n",
      "786/786 [==============================] - 0s 234us/step - loss: 0.1236\n",
      "Epoch 27/40\n",
      "786/786 [==============================] - 0s 273us/step - loss: 0.1234\n",
      "Epoch 28/40\n",
      "786/786 [==============================] - 0s 234us/step - loss: 0.1234\n",
      "Epoch 29/40\n",
      "786/786 [==============================] - 0s 223us/step - loss: 0.1230\n",
      "Epoch 30/40\n",
      "786/786 [==============================] - 0s 189us/step - loss: 0.1233\n",
      "Epoch 31/40\n",
      "786/786 [==============================] - 0s 195us/step - loss: 0.1228\n",
      "Epoch 32/40\n",
      "786/786 [==============================] - 0s 237us/step - loss: 0.1227\n",
      "Epoch 33/40\n",
      "786/786 [==============================] - 0s 268us/step - loss: 0.1223\n",
      "Epoch 34/40\n",
      "786/786 [==============================] - 0s 189us/step - loss: 0.1223\n",
      "Epoch 35/40\n",
      "786/786 [==============================] - 0s 206us/step - loss: 0.1223\n",
      "Epoch 36/40\n",
      "786/786 [==============================] - ETA: 0s - loss: 0.121 - 0s 215us/step - loss: 0.1218\n",
      "Epoch 37/40\n",
      "786/786 [==============================] - 0s 197us/step - loss: 0.1223\n",
      "Epoch 38/40\n",
      "786/786 [==============================] - 0s 233us/step - loss: 0.1217\n",
      "Epoch 39/40\n",
      "786/786 [==============================] - 0s 282us/step - loss: 0.1220\n",
      "Epoch 40/40\n",
      "786/786 [==============================] - 0s 186us/step - loss: 0.1215\n"
     ]
    }
   ],
   "source": [
    "history = model.fit(X_train,y_train, epochs=40,verbose=1)"
   ]
  },
  {
   "cell_type": "code",
   "execution_count": 17,
   "metadata": {},
   "outputs": [
    {
     "name": "stdout",
     "output_type": "stream",
     "text": [
      "197/197 [==============================] - 1s 4ms/step\n",
      "0.1227173149434443\n"
     ]
    }
   ],
   "source": [
    "accuracy = model.evaluate(X_test, y_test, batch_size=32, verbose=1)\n",
    "print (accuracy)"
   ]
  },
  {
   "cell_type": "code",
   "execution_count": null,
   "metadata": {},
   "outputs": [],
   "source": []
  }
 ],
 "metadata": {
  "kernelspec": {
   "display_name": "Python 3",
   "language": "python",
   "name": "python3"
  },
  "language_info": {
   "codemirror_mode": {
    "name": "ipython",
    "version": 3
   },
   "file_extension": ".py",
   "mimetype": "text/x-python",
   "name": "python",
   "nbconvert_exporter": "python",
   "pygments_lexer": "ipython3",
   "version": "3.7.1"
  }
 },
 "nbformat": 4,
 "nbformat_minor": 2
}
