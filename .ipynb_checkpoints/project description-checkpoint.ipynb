{
 "cells": [
  {
   "cell_type": "markdown",
   "metadata": {},
   "source": [
    "# Activity detection "
   ]
  },
  {
   "cell_type": "markdown",
   "metadata": {},
   "source": [
    "### introduction "
   ]
  },
  {
   "cell_type": "markdown",
   "metadata": {},
   "source": [
    "healthcare institutions are trying to find an efficient way to monitor patients so that they don't need to stay in the hospital. \n",
    "activity detection has been a good solution for deciding patient situation "
   ]
  },
  {
   "cell_type": "markdown",
   "metadata": {},
   "source": [
    "## Suggested solution "
   ]
  },
  {
   "cell_type": "markdown",
   "metadata": {},
   "source": [
    "activity prediction based on 2 different type of data. anomaly happens when there is a mismatch btween classifications.\n",
    "In order to implement that we used mhealth dataset. here is the dataset discription: \n",
    "\n",
    "The MHEALTH (Mobile HEALTH) dataset comprises body motion and vital signs recordings for ten volunteers of diverse profile while performing several physical activities. Sensors placed on the subject's chest, right wrist and left ankle are used to measure the motion experienced by diverse body parts, namely, acceleration, rate of turn and magnetic field orientation. The sensor positioned on the chest also provides 2-lead ECG measurements, which can be potentially used for basic heart monitoring, checking for various arrhythmias or looking at the effects of exercise on the ECG. \n",
    "\n",
    "ACTIVITY SET\n",
    "\n",
    "The activity set is listed in the following:\n",
    "\n",
    "* L1: Standing still (1 min)\n",
    "\n",
    "* L2: Sitting and relaxing (1 min)\n",
    "\n",
    "* L3: Lying down (1 min)\n",
    "\n",
    "* L4: Walking (1 min) \n",
    "\n",
    "* L5: Climbing stairs (1 min)\n",
    "\n",
    "* L6: Waist bends forward (20x) \n",
    "\n",
    "* L7: Frontal elevation of arms (20x)\n",
    "\n",
    "* L8: Knees bending (crouching) (20x)\n",
    "\n",
    "* L9: Cycling (1 min) \n",
    "\n",
    "* L10: Jogging (1 min) \n",
    "\n",
    "* L11: Running (1 min) \n",
    "\n",
    "* L12: Jump front & back (20x) \n",
    "\n",
    "\n",
    "Attribute Information:\n",
    "\n",
    "The data collected for each subject is stored in a different log file: 'mHealth_subject.log'. Each file contains the samples (by rows) recorded for all sensors (by columns). The labels used to identify the activities are similar to the abovementioned (e.g., the label for walking is '4'). \n",
    "\n",
    "The meaning of each column is detailed next:\n",
    "\n",
    "* Column 1: acceleration from the chest sensor (X axis) \n",
    "\n",
    "* Column 2: acceleration from the chest sensor (Y axis)\n",
    "\n",
    "* Column 3: acceleration from the chest sensor (Z axis)\n",
    "\n",
    "* Column 4: electrocardiogram signal (lead 1) \n",
    "\n",
    "* Column 5: electrocardiogram signal (lead 2) \n",
    "\n",
    "* Column 6: acceleration from the left-ankle sensor (X axis)\n",
    "\n",
    "* Column 7: acceleration from the left-ankle sensor (Y axis)\n",
    "\n",
    "* Column 8: acceleration from the left-ankle sensor (Z axis)\n",
    "\n",
    "* Column 9: gyro from the left-ankle sensor (X axis) \n",
    "\n",
    "* Column 10: gyro from the left-ankle sensor (Y axis) \n",
    "\n",
    "* Column 11: gyro from the left-ankle sensor (Z axis) \n",
    "\n",
    "* Column 13: magnetometer from the left-ankle sensor (X axis) \n",
    "\n",
    "* Column 13: magnetometer from the left-ankle sensor (Y axis) \n",
    "\n",
    "* Column 14: magnetometer from the left-ankle sensor (Z axis) \n",
    "\n",
    "* Column 15: acceleration from the right-lower-arm sensor (X axis) \n",
    "\n",
    "* Column 16: acceleration from the right-lower-arm sensor (Y axis) \n",
    "\n",
    "* Column 17: acceleration from the right-lower-arm sensor (Z axis) \n",
    "\n",
    "* Column 18: gyro from the right-lower-arm sensor (X axis) \n",
    "\n",
    "* Column 19: gyro from the right-lower-arm sensor (Y axis) \n",
    "\n",
    "* Column 20: gyro from the right-lower-arm sensor (Z axis) \n",
    "\n",
    "* Column 21: magnetometer from the right-lower-arm sensor (X axis) \n",
    "\n",
    "* Column 22: magnetometer from the right-lower-arm sensor (Y axis) \n",
    "\n",
    "* Column 23: magnetometer from the right-lower-arm sensor (Z axis) \n",
    "\n",
    "* Column 24: Label (0 for the null class)[1]\n",
    "\n",
    "\n"
   ]
  },
  {
   "cell_type": "markdown",
   "metadata": {},
   "source": [
    "This data set has 10 files for 10 different patients. we will use one patient at a time so we decided to deal with patient 3 file.   "
   ]
  },
  {
   "cell_type": "markdown",
   "metadata": {},
   "source": [
    "## solution design \n",
    "we will try to build a model for activity classification based on one column of ECG data and build another model for classification based on one of the actuators. mismatch classifications represents anomalies  "
   ]
  },
  {
   "cell_type": "markdown",
   "metadata": {},
   "source": [
    "### Ecg data\n",
    "ECG classification problem was really complicated to solve. Therefore, we have tried several attempts and several models to increase the accuracy.\n",
    "\n",
    "models: \n",
    " \n",
    "* 1D CNN \n",
    " * ECG data \n",
    " * extracting features from ECG\n",
    "* 2D CNN\n",
    "* other trials"
   ]
  },
  {
   "cell_type": "markdown",
   "metadata": {},
   "source": [
    "### Actuator data \n",
    "\n",
    "actuator classification was less complex. we had to identify which actuator gives the best accuracy so it can be used for prediction.\n",
    "\n",
    "models: \n",
    "* KNN"
   ]
  },
  {
   "cell_type": "markdown",
   "metadata": {},
   "source": [
    "## implementation \n",
    "the implemented algoritms ara available in different files"
   ]
  },
  {
   "cell_type": "markdown",
   "metadata": {},
   "source": [
    "## References: \n",
    "* Royal Prince Alfred Hospital Patient Observation (Vital Signs) Policy  https://www.safetyandquality.gov.au/\n",
    "* Gia, Tuan Nguyen, Imed Ben Dhaou, Mai Ali, Amir M. Rahmani, Tomi Westerlund, Pasi Liljeberg, and Hannu Tenhunen. \"Energy efficient fog-assisted IoT system for monitoring diabetic patients with cardiovascular disease.\" Future Generation Computer Systems 93 (2019): 198-211.\n",
    "* Page, Alex, Ovunc Kocabas, Tolga Soyata, Mehmet Aktas, and Jean‐Philippe Couderc. \"Cloud‐Based Privacy‐Preserving Remote ECG Monitoring and Surveillance.\" Annals of Noninvasive Electrocardiology 20, no. 4 (2015): 328-337.\n",
    "* Acharya, U. Rajendra, Hamido Fujita, Shu Lih Oh, Yuki Hagiwara, Jen Hong Tan, and Muhammad Adam. \"Application of deep convolutional neural network for automated detection of myocardial infarction using ECG signals.\" Information Sciences 415 (2017): 190-198\n",
    "* TuanNguyen GiaaImed Ben Dhaoub Mai Alic Amir M.Rahmanide Tomi Wester lunda Pasi Liljeberga Hannu Tenhunena. “Energy efficient fog-assisted IoT system for monitoring diabetic patients with cardiovascular disease”\n",
    "* https://archive.ics.uci.edu/ml/datasets/MHEALTH+Dataset\n"
   ]
  },
  {
   "cell_type": "code",
   "execution_count": null,
   "metadata": {},
   "outputs": [],
   "source": []
  }
 ],
 "metadata": {
  "kernelspec": {
   "display_name": "Python 3",
   "language": "python",
   "name": "python3"
  },
  "language_info": {
   "codemirror_mode": {
    "name": "ipython",
    "version": 3
   },
   "file_extension": ".py",
   "mimetype": "text/x-python",
   "name": "python",
   "nbconvert_exporter": "python",
   "pygments_lexer": "ipython3",
   "version": "3.7.1"
  }
 },
 "nbformat": 4,
 "nbformat_minor": 2
}
